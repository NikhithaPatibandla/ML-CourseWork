{
  "nbformat": 4,
  "nbformat_minor": 0,
  "metadata": {
    "colab": {
      "provenance": [],
      "authorship_tag": "ABX9TyMFjp7Cw2jvYOjk3akc38DP",
      "include_colab_link": true
    },
    "kernelspec": {
      "name": "python3",
      "display_name": "Python 3"
    },
    "language_info": {
      "name": "python"
    }
  },
  "cells": [
    {
      "cell_type": "markdown",
      "metadata": {
        "id": "view-in-github",
        "colab_type": "text"
      },
      "source": [
        "<a href=\"https://colab.research.google.com/github/NikhithaPatibandla/ML-CourseWork/blob/main/Week_1.ipynb\" target=\"_parent\"><img src=\"https://colab.research.google.com/assets/colab-badge.svg\" alt=\"Open In Colab\"/></a>"
      ]
    },
    {
      "cell_type": "code",
      "source": [
        "#Importing the Libraries\n",
        "import pandas as pd\n",
        "from sklearn.impute import SimpleImputer\n",
        "#Generating a simple dataset\n",
        "def generate_example_dataset():\n",
        "  data = {\n",
        "      'PassengerId':[1,2,3,4,5],\n",
        "      'Name':['John','Jane','Bob','Alice','Charlie'],\n",
        "      'Age':[22,None,25,None,30],\n",
        "      'Fare':[7.25,71.28,None,8.05,10.5],\n",
        "      'Survived':[0,1,1,0,1]\n",
        "  }\n",
        "  return pd.DataFrame(data)\n",
        "#Cleaning the dataset\n",
        "def clean_dataset(df):\n",
        "  print(\"Original Dataset: \")\n",
        "  print(df)\n",
        "  numeric_df = df.select_dtypes(include='number')\n",
        "  imputer = SimpleImputer(strategy='mean') #Using mean to fill the missing values\n",
        "  numeric_df = pd.DataFrame(imputer.fit_transform(numeric_df),columns=numeric_df.columns)\n",
        "  print(\"\\nCleaned Dataset: \")\n",
        "  print(numeric_df)\n",
        "df = generate_example_dataset()\n",
        "clean_dataset(df)"
      ],
      "metadata": {
        "colab": {
          "base_uri": "https://localhost:8080/"
        },
        "id": "qBkA0DyUBhOj",
        "outputId": "e14a4c5d-6d2f-4b41-ed36-80496b36bd43"
      },
      "execution_count": 17,
      "outputs": [
        {
          "output_type": "stream",
          "name": "stdout",
          "text": [
            "Original Dataset: \n",
            "   PassengerId     Name   Age   Fare  Survived\n",
            "0            1     John  22.0   7.25         0\n",
            "1            2     Jane   NaN  71.28         1\n",
            "2            3      Bob  25.0    NaN         1\n",
            "3            4    Alice   NaN   8.05         0\n",
            "4            5  Charlie  30.0  10.50         1\n",
            "\n",
            "Cleaned Dataset: \n",
            "   PassengerId        Age   Fare  Survived\n",
            "0          1.0  22.000000   7.25       0.0\n",
            "1          2.0  25.666667  71.28       1.0\n",
            "2          3.0  25.000000  24.27       1.0\n",
            "3          4.0  25.666667   8.05       0.0\n",
            "4          5.0  30.000000  10.50       1.0\n"
          ]
        }
      ]
    },
    {
      "cell_type": "code",
      "source": [],
      "metadata": {
        "id": "iBjMMthpCzqp"
      },
      "execution_count": null,
      "outputs": []
    }
  ]
}